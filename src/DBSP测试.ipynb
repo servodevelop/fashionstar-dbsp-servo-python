{
 "cells": [
  {
   "cell_type": "code",
   "execution_count": 1,
   "metadata": {},
   "outputs": [],
   "source": [
    "import time\n",
    "\n",
    "# PySerial库用于串口通信\n",
    "# 使用此脚本之前, 请确保已经安装好了PySerial\n",
    "# PySerial安装过程及使用说明见官方文档\n",
    "# https://pyserial.readthedocs.io/en/latest/pyserial.html\n",
    "import serial\n",
    "\n",
    "# 自定义的PyDBSP库文件, 将dbsp.py放置在测试工程的同极目录\n",
    "from dbsp import *"
   ]
  },
  {
   "cell_type": "code",
   "execution_count": 2,
   "metadata": {},
   "outputs": [
    {
     "name": "stdout",
     "output_type": "stream",
     "text": [
      "[INFO] init uart\n",
      "[INFO] init event manager\n"
     ]
    }
   ],
   "source": [
    "# 请修改端口名称\n",
    "PORT_NAME = 'COM12'\n",
    "    \n",
    "# 创建串口对象\n",
    "# PySerial相关的API文档\n",
    "# https://pyserial.readthedocs.io/en/latest/pyserial_api.html  \n",
    "# 设置timeout=0 不等待直接返回\n",
    "uart = serial.Serial(port=PORT_NAME, baudrate=115200,\\\n",
    "                     parity=serial.PARITY_NONE, stopbits=1,\\\n",
    "                     bytesize=8,timeout=0)\n",
    "\n",
    "# 初始化DBSP\n",
    "DBSP.init(uart, is_debug=True)"
   ]
  },
  {
   "cell_type": "code",
   "execution_count": 3,
   "metadata": {
    "scrolled": true
   },
   "outputs": [
    {
     "name": "stdout",
     "output_type": "stream",
     "text": [
      "发送数据: \n",
      "0x13 0x4c 0x05 0x1d 0x1a 0x27 0x01 0x00 0x01 0xc4 \n",
      "通信协议模式设置是否成功 : True\n"
     ]
    },
    {
     "name": "stderr",
     "output_type": "stream",
     "text": [
      "Exception in thread Thread-21930:\n",
      "Traceback (most recent call last):\n",
      "  File \"d:\\ksoftware\\python\\lib\\threading.py\", line 926, in _bootstrap_inner\n",
      "    self.run()\n",
      "  File \"d:\\ksoftware\\python\\lib\\threading.py\", line 1177, in run\n",
      "    self.function(*self.args, **self.kwargs)\n",
      "  File \"D:\\KyleLab\\机器人\\舵机\\FashionStar-DBSP舵机\\SDK\\dbsp-lib-rasp-py\\src\\dbsp.py\", line 293, in update\n",
      "    cls.event_manager.update()\n",
      "  File \"D:\\KyleLab\\机器人\\舵机\\FashionStar-DBSP舵机\\SDK\\dbsp-lib-rasp-py\\src\\dbsp.py\", line 193, in update\n",
      "    candi_byte = self.uart.read(1)\n",
      "  File \"d:\\ksoftware\\python\\lib\\site-packages\\serial\\serialwin32.py\", line 273, in read\n",
      "    raise SerialException(\"ClearCommError failed ({!r})\".format(ctypes.WinError()))\n",
      "serial.serialutil.SerialException: ClearCommError failed (PermissionError(13, '设备不识别此命令。', None, 22))\n",
      "\n"
     ]
    }
   ],
   "source": [
    "def set_trans_mode_callback(*args):\n",
    "    '''设置协议模式的回调函数'''\n",
    "    is_ok, mode = args\n",
    "    print('通信协议模式设置是否成功 : {}'.format(is_ok))\n",
    "\n",
    "event = SetTranmissionMode()\n",
    "event.set_callback(set_trans_mode_callback)\n",
    "DBSP.add(event)"
   ]
  },
  {
   "cell_type": "markdown",
   "metadata": {},
   "source": [
    "```\n",
    "0x13 0x4c 0x05 0x1d 0x1a 0x27 0x01 0x00 0x01 0xc4 \n",
    "```"
   ]
  },
  {
   "cell_type": "code",
   "execution_count": 4,
   "metadata": {},
   "outputs": [
    {
     "name": "stdout",
     "output_type": "stream",
     "text": [
      "Marco Num: 3\n",
      "Marco ID: 1513264628  Marco Name: b'marco-0'\n",
      "Marco ID: 251853078  Marco Name: b'marco-1'\n",
      "Marco ID: 1946965611  Marco Name: b'marco-2'\n"
     ]
    }
   ],
   "source": [
    "query_marco_evt = QueryMarcoList()\n",
    "\n",
    "def query_marco_evt_callback(*args):\n",
    "    marco_num, marco_list = args\n",
    "    print('Marco Num: {}'.format(marco_num))\n",
    "    for marco_id, marco_name in marco_list:\n",
    "        print('Marco ID: {}  Marco Name: {}'.format(marco_id, marco_name))\n",
    "\n",
    "query_marco_evt.set_callback(query_marco_evt_callback)\n",
    "\n",
    "DBSP.add(query_marco_evt)"
   ]
  },
  {
   "cell_type": "code",
   "execution_count": 5,
   "metadata": {},
   "outputs": [
    {
     "name": "stdout",
     "output_type": "stream",
     "text": [
      "Send Data\n",
      "0x13 0x4c 0x05 0x1d 0x8a 0x75 0x04 0x00 0xf4 0x95 0x32 0x5a 0x99 \n"
     ]
    }
   ],
   "source": [
    "INIT_MARCO_ID = 1513264628   # 获取Marco ID,需要查阅DBSP的工程文件XML里面的ID, 或者根据上面的Marco ID查询列表输出日志\n",
    "INIT_MARCO_INTERVAL = 2000 # ms Marco的总时间长度 (在DBSP的上位机上可以查到)\n",
    "marco = MarcoEvent(INIT_MARCO_ID, INIT_MARCO_INTERVAL)\n",
    "DBSP.add(marco)"
   ]
  },
  {
   "cell_type": "markdown",
   "metadata": {},
   "source": [
    "```\n",
    "0x13 0x4c 0x05 0x1d 0x8a 0x75 0x04 0x00 0xf4 0x95 0x32 0x5a 0x99 \n",
    "```"
   ]
  }
 ],
 "metadata": {
  "kernelspec": {
   "display_name": "Python 3",
   "language": "python",
   "name": "python3"
  },
  "language_info": {
   "codemirror_mode": {
    "name": "ipython",
    "version": 3
   },
   "file_extension": ".py",
   "mimetype": "text/x-python",
   "name": "python",
   "nbconvert_exporter": "python",
   "pygments_lexer": "ipython3",
   "version": "3.7.8"
  }
 },
 "nbformat": 4,
 "nbformat_minor": 4
}
